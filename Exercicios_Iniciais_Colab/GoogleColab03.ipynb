{
  "nbformat": 4,
  "nbformat_minor": 0,
  "metadata": {
    "colab": {
      "name": "Exercicios_Codelab_Aula_04.ipynb",
      "provenance": [],
      "include_colab_link": true
    },
    "kernelspec": {
      "name": "python3",
      "display_name": "Python 3"
    },
    "language_info": {
      "name": "python"
    }
  },
  "cells": [
    {
      "cell_type": "markdown",
      "metadata": {
        "id": "view-in-github",
        "colab_type": "text"
      },
      "source": [
        "<a href=\"https://colab.research.google.com/github/Akyllesbarros/ExercisesPython/blob/main/Exercicios_Codelab_Aula_04.ipynb\" target=\"_parent\"><img src=\"https://colab.research.google.com/assets/colab-badge.svg\" alt=\"Open In Colab\"/></a>"
      ]
    },
    {
      "cell_type": "markdown",
      "metadata": {
        "id": "SW-cnnj3AAlE"
      },
      "source": [
        "## Exercício 01\n",
        "\n",
        "Faça um programa que pergunte ao usuário um número e valide se o numero é par ou impar:\n",
        "\n",
        "* Crie uma variável para receber o valor, com conversão para int\n",
        "* Para um número ser par, a divisão dele por 2 tem que dar resto 0"
      ]
    },
    {
      "cell_type": "code",
      "metadata": {
        "id": "ZeuCDPZQFT9T"
      },
      "source": [
        ""
      ],
      "execution_count": null,
      "outputs": []
    },
    {
      "cell_type": "markdown",
      "metadata": {
        "id": "jXVUBuN3DcU-"
      },
      "source": [
        "## Exercício 02\n",
        "\n",
        "> Parte 1\n",
        "\n",
        "Faça um script que peça um valor e mostre na tela se o valor é positivo ou negativo.\n",
        "\n",
        "> Parte 2\n",
        "\n",
        "Agora implemente a funcionalidade de não aceitar o número 0, no input. (esse vai além do explicado até agora)"
      ]
    },
    {
      "cell_type": "code",
      "metadata": {
        "id": "bsM4V6SeHwJr"
      },
      "source": [
        "n = float(input(\"Digite um número: \"))\n",
        "if n == 0 :\n",
        "  print(\"Número Nêutro!\")\n",
        "elif n > 0 : \n",
        "  print(\"Numero Positivo!\")\n",
        "else : \n",
        "  print(\"Número Negativo!\")\n"
      ],
      "execution_count": null,
      "outputs": []
    },
    {
      "cell_type": "markdown",
      "metadata": {
        "id": "90mUizLXOKd3"
      },
      "source": [
        "## Exercício 03\n",
        "\n",
        "Faça um programa que peça dois números, imprima o maior deles ou imprima \"Numeros iguais\" se os números forem iguais."
      ]
    },
    {
      "cell_type": "code",
      "metadata": {
        "id": "7yXB2kfUVYuD"
      },
      "source": [
        "\n",
        "N1 = float(input(\"Digite um número: \\n\"))\n",
        "N2 = float(input(\"Digite mais um número: \\n\"))\n",
        "\n",
        "if N1 == N2 :\n",
        "  print(\"Opa! Números iguais!\")\n",
        "elif N1 > N2 : \n",
        "  print(f\"O maior número é {N1}\")\n",
        "else : \n",
        "  print(f\"O maior número é {N2}\")"
      ],
      "execution_count": null,
      "outputs": []
    },
    {
      "cell_type": "markdown",
      "metadata": {
        "id": "9BATv7tsOWOI"
      },
      "source": [
        "## Exercício 04\n",
        "\n",
        "Crie um programa que verifique se uma letra digitada é \"F\" ou \"M\". Conforme a letra, escrever: F - Feminino, M - Masculino, caso escreva outra letra: Sexo Biológico Inválido."
      ]
    },
    {
      "cell_type": "code",
      "metadata": {
        "id": "pRm8kyI7Wnp4"
      },
      "source": [
        "sexo = input(\"Digite seu sexo: \").upper()\n",
        "letra = sexo[0] \n",
        "if letra == \"F\" : \n",
        "  print( \" 🌹 Sexo Feminino! 🌹 \")\n",
        "elif letra == \"M\" :\n",
        "  print(\"\\n🗡️ Sexo Masculino 🗡️ \")\n",
        "else : \n",
        "  print(\"Erro 404\")"
      ],
      "execution_count": null,
      "outputs": []
    },
    {
      "cell_type": "markdown",
      "metadata": {
        "id": "WX2j2ITtY3G5"
      },
      "source": [
        "### Exercício 05\n",
        "\n",
        "Crie um programa em Python que peça a nota do aluno, que deve ser um float entre 0.00 e 10.0\n",
        "\n",
        "* Se a nota for menor que 6.0, deve exibir a nota F.\n",
        "\n",
        "* Se a nota for de 6.0 até 7.0, deve exibir a nota D.\n",
        "\n",
        "* Se a nota for entre 7.0 e 8.0, deve exibir a nota C.\n",
        "\n",
        "* Se a nota for entre 8.0 e 9.0, deve exibir a nota B.\n",
        "\n",
        "* Por fim, se for entre 9.0 e 10.0, deve exibir um belo de um A."
      ]
    },
    {
      "cell_type": "code",
      "metadata": {
        "id": "4CjqLlFWY5Z-"
      },
      "source": [
        "nota = float(input(\"Digite sua nota [0/10]: \"))\n",
        "if nota < 6 : \n",
        "  print(\"Nota F\")\n",
        "if nota >=6 and nota <7 : \n",
        "  print(\"Nota D\")\n",
        "if nota >=7 and nota <8 : \n",
        "  print(\"Nota C\")\n",
        "if nota >=8 and nota <9 : \n",
        "  print(\"Nota B\")\n",
        "if nota >=9 and nota <=10 : \n",
        "  print(\"⭐⭐⭐⭐ Nota A ⭐⭐⭐⭐\")"
      ],
      "execution_count": null,
      "outputs": []
    },
    {
      "cell_type": "markdown",
      "metadata": {
        "id": "xep4W_T-s-Ra"
      },
      "source": [
        "# *Mini Projetos*"
      ]
    },
    {
      "cell_type": "markdown",
      "metadata": {
        "id": "4YbMlSEZG7UM"
      },
      "source": [
        "## **PROJETO 01**\n",
        "\n",
        "*   Escreva um programa que receba uma string digitada pelo usuário;\n",
        "*   Caso a string seja \"medieval\", exiba no console \"espada\";\n",
        "*   Caso contrário, se a string for \"futurista\", exiba no console \"sabre de luz\";\n",
        "*   Caso contrário, exiba no console \"Tente novamente\""
      ]
    },
    {
      "cell_type": "code",
      "metadata": {
        "id": "tn9QH5pVG8Rq"
      },
      "source": [
        "# Resposta:\n",
        "\n",
        "arma = input(\"Você prefere uma arma medieval ou futurista?\")\n",
        "if arma == \"medieval\" : \n",
        "  print(\"Está aqui sua ESPADA ! \")\n",
        "elif arma == \"futurista\" : \n",
        "  print(\"Está aqui seu SABRE DE LUZ !\")\n",
        "else : \n",
        "  print(\"Tente novamente..\")"
      ],
      "execution_count": null,
      "outputs": []
    },
    {
      "cell_type": "markdown",
      "metadata": {
        "id": "zUGk1OiNHDik"
      },
      "source": [
        "## **PROJETO 02**\n",
        "\n",
        "* Escreva um programa que receba um ataque de espada ou sabre digitada pelo usuário;\n",
        "\n",
        "* Caso o ataque seja \"espada\", exiba no console \"VOCÊ AINDA NÃO MATOU O CHEFÃO\";\n",
        "\n",
        "* Caso contrário, se o ataque for \"sabre\", exiba no console \"VOCÊ DERROTOU O CHEFÃO COM O SABRE DE LUZ\";\n",
        "\n",
        "* Caso contrário, exiba no console \"ATAQUE NOVAMENTE\""
      ]
    },
    {
      "cell_type": "code",
      "metadata": {
        "id": "eNZokIIOHHkp"
      },
      "source": [
        "# Resposta:\n",
        "ataque = input(\"Agora ataque com sua(o) [Espada/Sabre]\\n\").lower()\n",
        "if ataque == \"espada\" : \n",
        "  print(\"Você ainda não matou o chefão! \")\n",
        "elif ataque == \"sabre\":\n",
        "  print(\" YOU WIN -\\nParabéns, você matou o chefão com sabre de luz! \").lower()\n",
        "else : \n",
        "  print(\"Ataque novamente...\")\n"
      ],
      "execution_count": null,
      "outputs": []
    },
    {
      "cell_type": "markdown",
      "metadata": {
        "id": "NRhLAMa6ZfqU"
      },
      "source": [
        "## **DESAFIO 01**\n",
        "\n",
        "**Reajuste salarial**\n",
        "\n",
        "As empresas @.com resolveram dar um aumento de salário aos seus colaboradores e lhe contrataram para desenvolver o programa que calculará os reajustes.\n",
        "\n",
        "Faça um programa que recebe o salário de um colaborador e o reajuste segundo o seguinte critério, baseado no salário atual:\n",
        "* salários até R$ 280,00 (incluindo) : aumento de 20%\n",
        "\n",
        "* salários entre R\\$ 280,00 e R$ 700,00 : aumento de 15%\n",
        "\n",
        "* salários entre R\\$ 700,00 e R$ 1500,00 : aumento de 10%\n",
        "\n",
        "* salários de R$ 1500,00 em diante : aumento de 5% \n",
        "\n",
        "Após o aumento ser realizado, informe na tela:\n",
        "* o salário antes do reajuste;\n",
        "\n",
        "* o percentual de aumento aplicado;\n",
        "\n",
        "* o valor do aumento;\n",
        "\n",
        "* o novo salário, após o aumento.\""
      ]
    },
    {
      "cell_type": "code",
      "metadata": {
        "id": "VpC5oZINZXzt"
      },
      "source": [
        "salario = float(input('Olá colaborador, por favor, digite seu salário:\\n'))\n",
        "\n",
        "if salario < 280.00 : \n",
        "    salarioReajustado = salario + salario* 0.20 \n",
        "    print(f''' \n",
        "    Seu salário antes do Reajuste: R$ {salario:.2f}\n",
        "    Percentual de aumento: 20%\n",
        "    Valor do aumento: R$ {salarioReajustado-salario}\n",
        "    Seu salário Reajustado é: R$ {salarioReajustado:.2f}\n",
        "    ''')\n",
        "\n",
        "elif salario > 280.00 and salario < 700.00 : \n",
        "    salarioReajustado = salario + salario* 0.15\n",
        "    print(f''' \n",
        "    Seu salário antes do Reajuste: R$ {salario:.2f}\n",
        "    Percentual de aumento: 15%\n",
        "    Valor do aumento: R$ {salarioReajustado-salario}\n",
        "    Seu salário Reajustado é: R$ {salarioReajustado:.2f}\n",
        "    ''')\n",
        "\n",
        "elif salario > 700.00 and salario < 1500.00 : \n",
        "    salarioReajustado = salario + salario* 0.10 \n",
        "    print(f''' \n",
        "    Seu salário antes do Reajuste: R$ {salario:.2f}\n",
        "    Percentual de aumento: 10%\n",
        "    Valor do aumento: R$ {salarioReajustado-salario}\n",
        "    Seu salário Reajustado é: R$ {salarioReajustado:.2f}\n",
        "    ''')\n",
        "\n",
        "else : \n",
        "    salarioReajustado = salario + salario* 0.05\n",
        "\n",
        "    print(f''' \n",
        "    Seu salário antes do Reajuste: R$ {salario:.2f}\n",
        "    Percentual de aumento: 5%\n",
        "    Valor do aumento: R$ {salarioReajustado-salario}\n",
        "    Seu salário Reajustado é: R$ {salarioReajustado:.2f}\n",
        "    ''')"
      ],
      "execution_count": null,
      "outputs": []
    },
    {
      "cell_type": "markdown",
      "metadata": {
        "id": "HvThpbU4aBGy"
      },
      "source": [
        "## **DESAFIO 02**\n",
        "\n",
        "**Jogo da adivinhação**\n",
        "\n",
        "Escreva um programa que faça o computador “pensar” em um número inteiro entre 0 e 10 e peça para o usuário tentar descobrir qual foi o número escolhido pelo computador. O programa deverá escrever na tela se o usuário venceu ou perdeu."
      ]
    },
    {
      "cell_type": "code",
      "metadata": {
        "id": "TVeHZbyQZIzO"
      },
      "source": [
        "import random\n",
        "nome = input(\"Olá, para iniciar, digite seu nome: \")\n",
        "numeroUsuario = int(input(f'''Olá {nome}, \n",
        "Você acha que é capaz de adivinhar o número que eu estou pensando? \n",
        "Digite abaixo sua primeira aposta de 0 a 10.\\n\\n'''))\n",
        "\n",
        "sorte = random.randint(0, 10)\n",
        "if numeroUsuario == sorte : \n",
        "    print(\"Você é demais em, acertou de primeira!! Parabéns!\")\n",
        "elif numeroUsuario != sorte : \n",
        "    print(\"Acho que está perto, mas não foi dessa vez!...\")\n",
        "\n"
      ],
      "execution_count": null,
      "outputs": []
    },
    {
      "cell_type": "markdown",
      "metadata": {
        "id": "mjLFAUooaOH1"
      },
      "source": [
        "## **Desafio 03**\n",
        "\n",
        "**Caixa eletrônico**\n",
        "\n",
        "Faça um Programa para um caixa eletrônico. O programa deverá perguntar ao usuário a valor do saque e depois informar quantas notas de cada valor serão fornecidas. As notas disponíveis serão as de 1, 5, 10, 50 e 100 reais. O valor mínimo é de 10 reais e o máximo de 600 reais. O programa não deve se preocupar com a quantidade de notas existentes na máquina.\n",
        "\n",
        "* Exemplo 1: Para sacar a quantia de 256 reais, o programa fornece duas notas de 100, uma nota de 50, uma nota de 5 e uma nota de 1;\n",
        "\n",
        "* Exemplo 2: Para sacar a quantia de 399 reais, o programa fornece três notas de 100, uma nota de 50, quatro notas de 10, uma nota de 5 e quatro notas de 1.\n",
        "\n"
      ]
    },
    {
      "cell_type": "code",
      "metadata": {
        "id": "sH65bTx-ZMLh"
      },
      "source": [
        "nome = input(\"Olá, para iniciar, digite seu nome: \")\n",
        "saque = int(input(f\"Olá {nome}, Quanto você quer sacar hoje? [Mín R$ 10 e Máx R$ 600]\\n\"))\n",
        "# Notas de 1, 5, 10, 50, 100. \n",
        "\n",
        "nota100 = nota50 = nota10 = nota5 = nota1 = 0\n",
        "if saque >= 10 and saque <= 600 : \n",
        "    if saque >= 100 : \n",
        "        nota100 = saque // 100 \n",
        "        saque -= 100 * nota100\n",
        "    if saque >= 50 : \n",
        "        nota50 = saque // 50\n",
        "        saque -= 50 * nota50\n",
        "    if saque >= 10 : \n",
        "        nota10 = saque // 10\n",
        "        saque -= 10* nota10\n",
        "    if saque >= 5 : \n",
        "        nota5 = saque // 5\n",
        "        saque -= 5 * nota5\n",
        "    if saque >= 1 : \n",
        "        nota1 = saque\n",
        "        saque -= nota1 \n",
        "    print(f\"Você recebeu {nota100} notas de cem reais.\")\n",
        "    print(f\"Você recebeu {nota50} notas de cinquenta reais\")\n",
        "    print(f\"Você recebeu {nota10} notas de dez reais\")\n",
        "    print(f\"Você recebeu {nota5} notas de cinco reais\")\n",
        "    print(f\"Você recebeu {nota1} moedas de um real\")\n",
        "\n",
        "else : \n",
        "    print(\"Valor inválido, por favor, escolha um valor entre R$ 10 e R$ 600.\")"
      ],
      "execution_count": null,
      "outputs": []
    }
  ]
}