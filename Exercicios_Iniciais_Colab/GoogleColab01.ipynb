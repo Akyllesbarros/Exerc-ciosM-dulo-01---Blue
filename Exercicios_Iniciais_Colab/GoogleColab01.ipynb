{
  "nbformat": 4,
  "nbformat_minor": 0,
  "metadata": {
    "colab": {
      "name": "Aula_02_Codelab_1.ipynb",
      "provenance": [],
      "collapsed_sections": [],
      "include_colab_link": true
    },
    "kernelspec": {
      "name": "python3",
      "display_name": "Python 3"
    },
    "language_info": {
      "name": "python"
    }
  },
  "cells": [
    {
      "cell_type": "markdown",
      "metadata": {
        "id": "view-in-github",
        "colab_type": "text"
      },
      "source": [
        "<a href=\"https://colab.research.google.com/github/Akyllesbarros/ExercicesPython/blob/main/Aula_02_Codelab_1.ipynb\" target=\"_parent\"><img src=\"https://colab.research.google.com/assets/colab-badge.svg\" alt=\"Open In Colab\"/></a>"
      ]
    },
    {
      "cell_type": "markdown",
      "metadata": {
        "id": "n_igYcmdk6U9"
      },
      "source": [
        "# **Exercícios para treinar:**"
      ]
    },
    {
      "cell_type": "code",
      "metadata": {
        "id": "xaN1DZ_AEQkC"
      },
      "source": [
        "# EXERCÍCIOS PARA TREINAR \n",
        "\n",
        "# 1.Frase na Tela -----------------------------------------------------------------------------------------------------------\n",
        "\n",
        "print(\"O primeiro programa a gente nunca esquece! \")\n",
        "\n",
        "\n",
        "\n",
        "\n",
        "# 2.Etiqueta -----------------------------------------------------------------------------------------------------------\n",
        "\n",
        "print(\" Nome: Akylles Ferreira Barros\\n Rua Cubo Magico \\n CEP: 12343210 \\n telefone: (27) 99508 9620\")\n",
        "\n",
        "\n",
        "\n",
        "\n",
        "# 3.Letra de Música -----------------------------------------------------------------------------------------------------------\n",
        "\n",
        "print(\"Brilha, brilha, estrelinha\\n\\nQuero ver você brilhar\\nLá no alto, lá no céu\\nNum desenho de cordel\\nBrilha, brilha, estrelinha\\nBaila, linda bailarina\\nBrilha, brilha, estrelinha\\nQuero ver você brilhar\\nLá no alto, lá no céu\\nNum desenho de cordel\\nBrilha, brilha, estrelinha\\nBaila, linda bailarina\")\n",
        "\n",
        "\n",
        "\n",
        "\n",
        "# 4. Tabela de Notas -----------------------------------------------------------------------------------------------------------\n",
        "\n",
        "aline = 9.0\n",
        "mario = \"DEZ\"\n",
        "sergio = 4.5\n",
        "shirley = 7.0\n",
        "\n",
        "print( f\"ALUNO (A)  NOTA \\n=========  ====\\nALINE      {aline}\\nMÁRIO      {mario}\\nSérgio     {sergio}\\nSHIRLEY    {shirley}\")\n",
        "\n",
        "\n",
        "\n",
        "\n",
        "\n",
        "# 5. MENU -----------------------------------------------------------------------------------------------------------------------\n",
        "\n",
        "\n",
        "# menu = int(input(\"Cadastro de Clientes\\n\\n0 - Fim\\n1 - Inclui\\n2 - Altera\\n3 - Exclui\\n4 - Consulta\\nDigite uma opção:\"))\n",
        "# print(f\"\\nVocê escolheu a opção {menu}\")\n",
        "\n",
        "\n",
        "\n",
        "\n",
        "\n",
        "#6. Calculadora de DANO ----------------------------------------------------------------------------------------------------------\n",
        "\n",
        "\n",
        "vidaMonstro = int(input(\"Digite a vida do monstro, não seja covarde (entre 10 e 50)!\\n\"))\n",
        "\n",
        "forca = int(input(\"Digite sua força cavaleiro! (entre 5 e 10)\\n\"))\n",
        "\n",
        "vitoria= vidaMonstro/forca\n",
        "\n",
        "print(f\"Muito bem cavaleiro, você derrotou o monstro em {vitoria:.0f} turnos!! \")\n",
        "\n",
        "\n"
      ],
      "execution_count": null,
      "outputs": []
    },
    {
      "cell_type": "markdown",
      "metadata": {
        "id": "rRyZR6ZAlEHU"
      },
      "source": [
        "1. **Frase na tela** - Implemente um programa que escreve na tela a frase \"O primeiro programa a gente nunca esquece!\".\n",
        "\n",
        "2. **Etiqueta** - Elabore um programa que escreve seu nome completo na primeira linha, seu endereço na segunda e o CEP e telefone na terceira.\n",
        "\n",
        "3. **Letra de música** - Faça um programa que mostre na tela uma letra de música que você gosta (proibido letras do Justin Bieber).\n",
        "\n",
        "4. **Tabela de notas** - Você foi contratado ou contratada por uma escola pra fazer o sistema de boletim dos alunos. Como primeiro passo, escreva um programa que produza a seguinte saída:\n",
        "```\n",
        "ALUNO (A)  NOTA\n",
        "=========  ====\n",
        "ALINE      9.0\n",
        "MÁRIO      DEZ\n",
        "SÉRGIO     4.5\n",
        "SHIRLEY    7.0\n",
        "```\n",
        "\n",
        "5. **Menu** - Elabore um programa que mostre o seguinte menu na tela:\n",
        "```\n",
        "Cadastro de Clientes\n",
        "0 - Fim\n",
        "1 - Inclui\n",
        "2 - Altera\n",
        "3 - Exclui\n",
        "4 - Consulta\n",
        "Digite uma opção: \n",
        "```\n",
        "Ao digitar um valor para a opção, o programa exibe qual opção foi escolhida.\n",
        "```\n",
        "Você escolheu a opção '0'.\n",
        "```\n",
        "\n",
        "6. **Calculadora de Dano** - Escreva um programa que receba dois valores digitados pelo usuário:\n",
        "  - Quantidade de vida de um monstro (entre 10 e 50);\n",
        "  - Valor do ataque do jogador por turno (entre 5 e 10);\n",
        "  - Baseado nos valores digitados, exiba a quantidade de turnos que o jogador irá demorar para conseguir derrotar o monstro.\n",
        "  - ```\n",
        "    O jogador irá derrotar o monstro em 8 turnos.\n",
        "    ```"
      ]
    },
    {
      "cell_type": "markdown",
      "metadata": {
        "id": "HqgnPaCGqMPB"
      },
      "source": [
        "# Exercícios"
      ]
    },
    {
      "cell_type": "markdown",
      "metadata": {
        "id": "U-ltrv0jqPBq"
      },
      "source": [
        "## #01 - E os 10% do garçom?**\n",
        "\n",
        "- Defina uma variável para o valor de uma refeição que custou R$ 42,54;\n",
        "\n",
        "- Defina uma variável para o valor da taxa de serviço que é de 10%;\n",
        "\n",
        "- Defina uma variável que calcula o valor total da conta e exiba-o no console com essa formatação: R$ XXXX.XX."
      ]
    },
    {
      "cell_type": "code",
      "metadata": {
        "id": "jbcSv4NFkB1C",
        "colab": {
          "base_uri": "https://localhost:8080/"
        },
        "outputId": "e4095999-ef11-4e04-c7c0-05beb2f3ac37"
      },
      "source": [
        "refeicao = 42.54\n",
        "taxa = 0.10 * refeicao\n",
        "total = refeicao + taxa\n",
        "print(f\"O total da conta foi de: R$ {total:.2f}\")"
      ],
      "execution_count": 24,
      "outputs": [
        {
          "output_type": "stream",
          "text": [
            "O total da conta foi de: R$ 46.79\n"
          ],
          "name": "stdout"
        }
      ]
    },
    {
      "cell_type": "markdown",
      "metadata": {
        "id": "JR3-KgsTqR41"
      },
      "source": [
        "## #02 - Qual o valor do troco?\n",
        "\n",
        "*   Defina uma variável para o valor de uma compra que custou R$100,98;\n",
        "\n",
        "*   Defina uma variável para o valor que o cliente pagou R$150,00;\n",
        "\n",
        "*   Defina uma variável que calcula o valor do troco e exiba-o no console com o valor final arredondado."
      ]
    },
    {
      "cell_type": "code",
      "metadata": {
        "id": "hBf3kE_pksAI",
        "colab": {
          "base_uri": "https://localhost:8080/"
        },
        "outputId": "4e174bba-07e1-4d38-df21-656c9278a3c4"
      },
      "source": [
        "totalCompra = 100.98 \n",
        "valorPago = 150\n",
        "troco = valorPago - totalCompra\n",
        "print(f\"Esse é o valor do troco: R$ {troco:.0f}\")"
      ],
      "execution_count": 26,
      "outputs": [
        {
          "output_type": "stream",
          "text": [
            "Esse é o valor do troco: R$ 49\n"
          ],
          "name": "stdout"
        }
      ]
    },
    {
      "cell_type": "markdown",
      "metadata": {
        "id": "2Uu84Uqtkunt"
      },
      "source": [
        "## #03 - Você está na flor da idade?\n",
        "\n",
        "*  Defina uma variável para o valor do ano do nascimento;\n",
        "*  Defina uma variável para o valor do ano atual;\n",
        "*  Defina uma variável que calcula o valor final da idade da pessoa;\n",
        "*  Exiba uma mensagem final dizendo a idade da pessoa e a mensagem \"Você está na flor da idade\"."
      ]
    },
    {
      "cell_type": "code",
      "metadata": {
        "id": "kyXxJV3nk14Z",
        "colab": {
          "base_uri": "https://localhost:8080/"
        },
        "outputId": "24061f01-5518-447d-cb4f-3c66817a4723"
      },
      "source": [
        "anoNascimento = int(input(\"Digite o seu ano de nascimento: \"))\n",
        "anoAtual = 2021\n",
        "idade = 2021 - anoNascimento\n",
        "\n",
        "print(f\" Opa, você tem {idade} anos, ainda está na flor da idade! \")"
      ],
      "execution_count": 27,
      "outputs": [
        {
          "output_type": "stream",
          "text": [
            "Digite o seu ano de nascimento: 2000\n",
            " Opa, você tem 21 anos, ainda está na flor da idade! \n"
          ],
          "name": "stdout"
        }
      ]
    },
    {
      "cell_type": "markdown",
      "metadata": {
        "id": "w1T7s2q0p-pt"
      },
      "source": [
        "# Mini projetos"
      ]
    },
    {
      "cell_type": "markdown",
      "metadata": {
        "id": "meUw7PTwqC-Y"
      },
      "source": [
        "## #01 - Conversor de moedas\n",
        "\n",
        "Crie um programa que solicite um um valor em real ao usuário e converta esse valor, para:\n",
        "\n",
        "- DOLAR,\n",
        "- EURO,\n",
        "- LIBRA ESTERLINA,\n",
        "- DÓLAR CANADENSE,\n",
        "- PESO ARGENTINO,\n",
        "- PESO CHILENO.\n",
        "\n",
        "Para esse exercício você precisará realizar uma pesquisa para saber a cotação de cada moeda em real. Mostrar o resultado no formato $ XXXX.XX"
      ]
    },
    {
      "cell_type": "code",
      "metadata": {
        "id": "q481snSClrXe",
        "colab": {
          "base_uri": "https://localhost:8080/"
        },
        "outputId": "4c3c14b8-1675-4d68-aafe-e63b7be5ff5d"
      },
      "source": [
        "real = int(input(\"Digite o valor em real que deseja converter:\\n\\n\"))\n",
        "realDolar = 5.04 * real\n",
        "realEuro = 6.13 * real\n",
        "realLibra = 7.17 * real\n",
        "realDolarCanadense = 4.16 * real\n",
        "realPeso = 0.053 * real\n",
        "realPesochileno = 0.007 * real\n",
        "\n",
        "\n",
        "print(f\"\\nDolar: {realDolar:.2f}\\nEuro: {realEuro:.2f}\\nLibra Esterlina: {realLibra:.2f}\\nDólar Canadense: {realDolarCanadense:.2f}\\nPeso Argentino: {realPeso:.2f}\\nPeso Chileno: {realPesochileno:.2f}\")"
      ],
      "execution_count": 60,
      "outputs": [
        {
          "output_type": "stream",
          "text": [
            "Digite o valor em real que deseja converter:\n",
            "\n",
            "10\n",
            "\n",
            "Dolar: 50.40\n",
            "Euro: 61.30\n",
            "Libra Esterlina: 71.70\n",
            "Dólar Canadense: 41.60\n",
            "Peso Argentino: 0.53\n",
            "Peso Chileno: 0.07\n"
          ],
          "name": "stdout"
        }
      ]
    },
    {
      "cell_type": "markdown",
      "metadata": {
        "id": "KK9PIcJ4qIF9"
      },
      "source": [
        "## #02 - Calculadora de aumento de aluguel\n",
        "\n",
        "Vamos construir um programa que irá calcular o aumento anual do seu aluguel em duas partes:\n",
        "\n",
        "### Parte 1\n",
        "A sua calculadora vai receber o `valor do aluguel` e calcular o aumento baseado no `IGPM de 31%`. A calculadora deve apresentar o aluguel reajustado no formato `R$ XXXX.XX`\n",
        "\n",
        "**Exemplo:**\n",
        "```\n",
        "Valor do aluguel = 1000\n",
        "Valor do aluguel reajustado = R$ 1310,00"
      ]
    },
    {
      "cell_type": "code",
      "metadata": {
        "id": "VdjHa9Csl0Lg",
        "colab": {
          "base_uri": "https://localhost:8080/"
        },
        "outputId": "bd0b90d5-c9e8-4a3e-b2ca-3f4555ac7368"
      },
      "source": [
        "valorAluguel = int(input(\"Digite o valor do seu aluguel hoje: \"))\n",
        "IGPM = 0.31 * valorAluguel\n",
        "reajuste = valorAluguel + IGPM\n",
        "\n",
        "print(f\"O valor do seu aluguel ajustado é de: R$ {reajuste:.2f}\")"
      ],
      "execution_count": 61,
      "outputs": [
        {
          "output_type": "stream",
          "text": [
            "Digite o valor do seu aluguel hoje: 1000\n",
            "O valor do seu aluguel ajustado é de: R$ 1310.00\n"
          ],
          "name": "stdout"
        }
      ]
    },
    {
      "cell_type": "markdown",
      "metadata": {
        "id": "lKTwnuNMl8rP"
      },
      "source": [
        "### Parte 2\n",
        "Agora, altere sua calculadora para receber além do `valor do aluguel`, o percentual do reajuste no formato `XX%`.  \n",
        "\n",
        "**Dica:** Descubra uma forma de transformar o percentual recebido em um número para efetuar o cálculo.\n",
        "\n",
        "**Exemplo:**\n",
        "```\n",
        "Valor do aluguel = 1000\n",
        "Percentual do reajuste = 31%\n",
        "Valor do aluguel reajustado = R% 1310,00\n",
        "```"
      ]
    },
    {
      "cell_type": "code",
      "metadata": {
        "id": "aw2Zk_9KmA85",
        "colab": {
          "base_uri": "https://localhost:8080/"
        },
        "outputId": "a2b8c0fe-1619-4247-86b5-574ab51167af"
      },
      "source": [
        "valorAluguel = int(input(\"Digite o valor do seu aluguel hoje: \"))\n",
        "percentIGPM = int(input(\"Digite o percentual(%) do reajuste: \"))\n",
        "percentIGPM = percentIGPM * 0.01\n",
        "IGPM = percentIGPM * valorAluguel\n",
        "reajuste = valorAluguel + IGPM\n",
        "\n",
        "print(f\"O valor do seu aluguel ajustado é de: R$ {reajuste:.2f}\")"
      ],
      "execution_count": 63,
      "outputs": [
        {
          "output_type": "stream",
          "text": [
            "Digite o valor do seu aluguel hoje: 1000\n",
            "Digite o percentual(%) do reajuste: 1\n",
            "O valor do seu aluguel ajustado é de: R$ 1010.00\n"
          ],
          "name": "stdout"
        }
      ]
    },
    {
      "cell_type": "code",
      "metadata": {
        "id": "G4F83s8xaUex"
      },
      "source": [
        ""
      ],
      "execution_count": null,
      "outputs": []
    }
  ]
}