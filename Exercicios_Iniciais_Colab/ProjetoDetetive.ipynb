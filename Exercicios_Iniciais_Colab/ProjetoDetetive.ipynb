{
  "nbformat": 4,
  "nbformat_minor": 0,
  "metadata": {
    "colab": {
      "name": "ProjetoDetetive.ipynb",
      "provenance": [],
      "authorship_tag": "ABX9TyMN0pWK7jeN1ybJC6DYiEzJ",
      "include_colab_link": true
    },
    "kernelspec": {
      "display_name": "Python 3",
      "name": "python3"
    },
    "language_info": {
      "name": "python"
    }
  },
  "cells": [
    {
      "cell_type": "markdown",
      "metadata": {
        "id": "view-in-github",
        "colab_type": "text"
      },
      "source": [
        "<a href=\"https://colab.research.google.com/github/Akyllesbarros/ExercisesPython/blob/main/ProjetoDetetive.ipynb\" target=\"_parent\"><img src=\"https://colab.research.google.com/assets/colab-badge.svg\" alt=\"Open In Colab\"/></a>"
      ]
    },
    {
      "cell_type": "code",
      "metadata": {
        "colab": {
          "base_uri": "https://localhost:8080/"
        },
        "id": "jefueY3BA3-n",
        "outputId": "9e5ffdb0-ec11-4f2f-a608-d5945406e540"
      },
      "source": [
        "\n",
        "# Importando biblioteca para limpar o terminal a cada pergunta e para dar tempo para as respostas do terminal.\n",
        "\n",
        "from time import sleep\n",
        "\n",
        "print(\"Carregando Cenário.....\")\n",
        "sleep(3) # Inclui tempo de espera para exibir resultado no terminal\n",
        " \n",
        "\n",
        "nome = input(\"Por favor, digite seu nome abaixo para iniciar o jogo: \")\n",
        "\n",
        "sleep(1) \n",
        "\n",
        "print(f'{nome}, Hoje é segunda feira, 7 horas da manhã,\\ne a Polícia federal acaba de bater na sua porta para fazer algumas perguntas a respeito\\nda morte de sua cunhada que aconteceu no seu quintal no último final de semana....\\n\\n')\n",
        "sleep(10)\n",
        "\n",
        "\n",
        "print('As perguntas serão de resposta afirmativa (sim) ou negativa (não).\\n')\n",
        "sleep(5)\n",
        "\n",
        "\n",
        "print('A policia federal conta com sua colaboração e sinceridade para o andamento dessa investigação...\\n')\n",
        "sleep(5)\n",
        "\n",
        "\n",
        "print('''A partir daqui, você concorda em ser dizer a verdade e somente a verdade sob pena do artigo 342 do Código Penal de multa ou até retenção...   \\n\\n''')\n",
        "sleep(8)\n",
        "\n",
        "\n",
        "# Entrada das respostas as perguntas // Transforma todas strings de entrada em minúsculo; \n",
        "pergunta1 = input(f'{nome}, não é verdade que você telefonou para a vítima nesse último final de semana? [S/N]\\n').lower()\n",
        "\n",
        "\n",
        "pergunta2 = input(f'Você esteve no local do crime em algum momento desse final de semana? [S/N]\\n').lower()\n",
        "\n",
        "\n",
        "pergunta3 = input(f'{nome}, você mora perto da vítima? [S/N]\\n').lower()\n",
        "\n",
        "\n",
        "pergunta4 = input(f'{nome}, Não é verdade que você devia algum valor para vítima? [S/N]\\n').lower()\n",
        "\n",
        "\n",
        "pergunta5 = input(f'Em algum momento você trabalhou com a vítima? [S/N]\\n').lower()\n",
        "\n",
        "\n",
        "print(f'''Obrigado {nome}, Sem mais perguntas.''')\n",
        "sleep(5)\n",
        "\n",
        "\n",
        "# Declaração do contador de respostas \"S\"\n",
        "contador = 0 \n",
        "# Reduz as entradas em somente a primeira letra; \n",
        "primeiraLetra1 = pergunta1[0]\n",
        "primeiraLetra2 = pergunta2[0]\n",
        "primeiraLetra3 = pergunta3[0]\n",
        "primeiraLetra4 = pergunta4[0]\n",
        "primeiraLetra5 = pergunta5[0]\n",
        "\n",
        "# Cada IF confirma a entrada e soma ao contador a resposta como válida.\n",
        "if primeiraLetra1 == 's' : \n",
        "    contador += 1 \n",
        "\n",
        "if primeiraLetra2 == 's' : \n",
        "    contador += 1\n",
        "\n",
        "if primeiraLetra3 == 's' : \n",
        "    contador += 1 \n",
        "\n",
        "if primeiraLetra4 == 's' : \n",
        "    contador += 1\n",
        "\n",
        "if primeiraLetra5 == 's' : \n",
        "    contador += 1 \n",
        "\n",
        "# If contador compara o número de respostas e imprime o resultado na tela. \n",
        "print(f'''Mais tarde na delegacia...''')\n",
        "sleep(3)\n",
        "\n",
        "\n",
        "if contador == 2 :\n",
        "    print(f\"Sr delegado, a partir das respostas, identificamos o {nome} como um SUSPEITO.\")\n",
        "\n",
        "if contador == 3 or contador == 4 :\n",
        "    print(f\"Sr delegado, a partir das respostas, identificamos o {nome} como um dos CUMPLICES.\")\n",
        "if contador == 5 :\n",
        "    print(f\"Sr delegado, a partir das respostas, identificamos o {nome} como o ASSASSINO da própria cunhada. \")\n",
        "elif contador == 0 or contador == 1:\n",
        "    print(f\"Sr delegado, a partir das respostas, identificamos o {nome} como INOCENTE, e o liberamos.\")"
      ],
      "execution_count": 7,
      "outputs": [
        {
          "output_type": "stream",
          "text": [
            "Carregando Cenário.....\n",
            "Por favor, digite seu nome abaixo para iniciar o jogo: Akylles\n",
            "Akylles, Hoje é segunda feira, 7 horas da manhã,\n",
            "e a Polícia federal acaba de bater na sua porta para fazer algumas perguntas a respeito\n",
            "da morte de sua cunhada que aconteceu no seu quintal no último final de semana....\n",
            "\n",
            "\n",
            "As perguntas serão de resposta afirmativa (sim) ou negativa (não).\n",
            "\n",
            "A policia federal conta com sua colaboração e sinceridade para o andamento dessa investigação...\n",
            "\n",
            "A partir daqui, você concorda em ser dizer a verdade e somente a verdade sob pena do artigo 342 do Código Penal de multa ou até retenção...   \n",
            "\n",
            "\n",
            "Akylles, não é verdade que você telefonou para a vítima nesse último final de semana? [S/N]\n",
            "s\n",
            "Você esteve no local do crime em algum momento desse final de semana? [S/N]\n",
            "s\n",
            "Akylles, você mora perto da vítima? [S/N]\n",
            "n\n",
            "Akylles, Não é verdade que você devia algum valor para vítima? [S/N]\n",
            "n\n",
            "Em algum momento você trabalhou com a vítima? [S/N]\n",
            "s\n",
            "Obrigado Akylles, Sem mais perguntas.\n",
            "Mais tarde na delegacia...\n",
            "Sr delegado, a partir das respostas, identificamos o Akylles como um dos CUMPLICES.\n"
          ],
          "name": "stdout"
        }
      ]
    }
  ]
}
